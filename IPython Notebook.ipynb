{
 "metadata": {
  "kernelspec": {
   "name": "python3",
   "display_name": "Python 3",
   "language": "python"
  },
  "language_info": {
   "codemirror_mode": {
    "name": "ipython",
    "version": 3
   },
   "file_extension": ".py",
   "mimetype": "text/x-python",
   "name": "python",
   "nbconvert_exporter": "python",
   "pygments_lexer": "ipython3",
   "version": "3.10.12"
  },
  "colab": {
   "provenance": []
  },
  "kaggle": {
   "accelerator": "nvidiaTeslaT4",
   "dataSources": [],
   "dockerImageVersionId": 30919,
   "isInternetEnabled": true,
   "language": "python",
   "sourceType": "notebook",
   "isGpuEnabled": true
  }
 },
 "nbformat_minor": 4,
 "nbformat": 4,
 "cells": [
  {
   "cell_type": "markdown",
   "source": "# Challenge 2 - Colab Demo\nThis notebook is for Colab. The included OS commands are for linux and may not work on Windows machines.",
   "metadata": {
    "id": "CfLr-GymQzoL"
   }
  },
  {
   "cell_type": "markdown",
   "source": "## Setup Code",
   "metadata": {
    "id": "TCC0MvAs8jya"
   }
  },
  {
   "cell_type": "code",
   "source": [
    "import torch\n",
    "if torch.cuda.is_available():\n",
    "    print(\"GPU used\")\n",
    "elif torch.backends.mps.is_available():\n",
    "    print(\"Apple silicon GPU used\")\n",
    "    print(\"Try to get a GPU runtime for faster progress\")\n",
    "else:\n",
    "    print(\"CPU used, slower execution\")\n",
    "    print(\"Try to get a GPU runtime for faster progress\")"
   ],
   "metadata": {
    "colab": {
     "base_uri": "https://localhost:8080/"
    },
    "id": "Ig1FSyn-x9nP",
    "outputId": "3cd9f4cb-d30a-407f-d632-2237c61c3e6c",
    "trusted": true,
    "ExecuteTime": {
     "end_time": "2025-04-23T17:36:52.295778Z",
     "start_time": "2025-04-23T17:36:52.292295Z"
    }
   },
   "outputs": [
    {
     "name": "stdout",
     "output_type": "stream",
     "text": [
      "Apple silicon GPU used\n",
      "Try to get a GPU runtime for faster progress\n"
     ]
    }
   ],
   "execution_count": 15
  },
  {
   "cell_type": "code",
   "source": "!pwd\n!ls",
   "metadata": {
    "colab": {
     "base_uri": "https://localhost:8080/"
    },
    "id": "28ie2wNDN7E1",
    "outputId": "53e68518-fbef-4df0-b303-08a1b8d6f156",
    "trusted": true,
    "ExecuteTime": {
     "end_time": "2025-04-23T17:36:54.122058Z",
     "start_time": "2025-04-23T17:36:53.865823Z"
    }
   },
   "outputs": [
    {
     "name": "stdout",
     "output_type": "stream",
     "text": [
      "/Users/hannessteiner/Documents/Projects/DEVPRJ/Challenge2/Challenge2\r\n",
      "config.py         \u001B[34mmodels\u001B[m\u001B[m            \u001B[34mresults\u001B[m\u001B[m\r\n",
      "\u001B[34mdata\u001B[m\u001B[m              README.md         test_crossval.py\r\n",
      "\u001B[34mdataset\u001B[m\u001B[m           requirements.txt  train_crossval.py\r\n"
     ]
    }
   ],
   "execution_count": 16
  },
  {
   "cell_type": "code",
   "source": "# activate to remove existing project to enable new git clone\nremove_project = True\nif remove_project:\n  # go to default directory - for Colab /content\n  %cd /content\n\n  !rm -rf Challenge2\nelse:\n  !pwd\n!ls",
   "metadata": {
    "colab": {
     "base_uri": "https://localhost:8080/"
    },
    "id": "sdQpvU25LiMV",
    "outputId": "beb3d376-b097-43c9-c01a-ccd00ea726a1",
    "trusted": true,
    "ExecuteTime": {
     "end_time": "2025-04-23T17:36:57.324919Z",
     "start_time": "2025-04-23T17:36:57.064861Z"
    }
   },
   "outputs": [
    {
     "name": "stdout",
     "output_type": "stream",
     "text": [
      "[Errno 2] No such file or directory: '/content'\n",
      "/Users/hannessteiner/Documents/Projects/DEVPRJ/Challenge2/Challenge2\n",
      "config.py         \u001B[34mmodels\u001B[m\u001B[m            \u001B[34mresults\u001B[m\u001B[m\r\n",
      "\u001B[34mdata\u001B[m\u001B[m              README.md         test_crossval.py\r\n",
      "\u001B[34mdataset\u001B[m\u001B[m           requirements.txt  train_crossval.py\r\n"
     ]
    },
    {
     "name": "stderr",
     "output_type": "stream",
     "text": [
      "/Users/hannessteiner/Documents/Projects/DEVPRJ/Challenge2/.venv/lib/python3.9/site-packages/IPython/core/magics/osm.py:393: UserWarning: using bookmarks requires you to install the `pickleshare` library.\n",
      "  bkms = self.shell.db.get('bookmarks', {})\n"
     ]
    }
   ],
   "execution_count": 17
  },
  {
   "cell_type": "code",
   "source": "!git clone https://github.com/Ma0256/Challenge2_2025.git Challenge2",
   "metadata": {
    "colab": {
     "base_uri": "https://localhost:8080/"
    },
    "id": "eyHcynzIyUXs",
    "outputId": "70204e83-de81-43c3-fc20-f6cfc526a4ef",
    "trusted": true,
    "ExecuteTime": {
     "end_time": "2025-04-23T17:32:26.463739Z",
     "start_time": "2025-04-23T17:32:25.847085Z"
    }
   },
   "outputs": [
    {
     "name": "stdout",
     "output_type": "stream",
     "text": [
      "Cloning into 'Challenge2'...\r\n",
      "remote: Enumerating objects: 49, done.\u001B[K\r\n",
      "remote: Counting objects: 100% (49/49), done.\u001B[K\r\n",
      "remote: Compressing objects: 100% (42/42), done.\u001B[K\r\n",
      "remote: Total 49 (delta 18), reused 29 (delta 6), pack-reused 0 (from 0)\u001B[K\r\n",
      "Receiving objects: 100% (49/49), 42.06 KiB | 2.00 MiB/s, done.\r\n",
      "Resolving deltas: 100% (18/18), done.\r\n"
     ]
    }
   ],
   "execution_count": 4
  },
  {
   "cell_type": "code",
   "source": "%cd Challenge2\n!ls",
   "metadata": {
    "colab": {
     "base_uri": "https://localhost:8080/"
    },
    "id": "yQcoM8Wt0aHL",
    "outputId": "3ac1ad75-e08e-4b62-a97c-bd18b39ea04d",
    "trusted": true,
    "ExecuteTime": {
     "end_time": "2025-04-23T17:32:26.609715Z",
     "start_time": "2025-04-23T17:32:26.480141Z"
    }
   },
   "outputs": [
    {
     "name": "stdout",
     "output_type": "stream",
     "text": [
      "/Users/hannessteiner/Documents/Projects/DEVPRJ/Challenge2/Challenge2\n",
      "config.py         \u001B[34mmodels\u001B[m\u001B[m            requirements.txt  train_crossval.py\r\n",
      "\u001B[34mdataset\u001B[m\u001B[m           README.md         test_crossval.py\r\n"
     ]
    },
    {
     "name": "stderr",
     "output_type": "stream",
     "text": [
      "/Users/hannessteiner/Documents/Projects/DEVPRJ/Challenge2/.venv/lib/python3.9/site-packages/IPython/core/magics/osm.py:417: UserWarning: using dhist requires you to install the `pickleshare` library.\n",
      "  self.shell.db['dhist'] = compress_dhist(dhist)[-100:]\n"
     ]
    }
   ],
   "execution_count": 5
  },
  {
   "cell_type": "code",
   "source": [
    "# installing all reqs can take a long time. First try to run with default package installation.\n",
    "#!pip install -r requirements.txt"
   ],
   "metadata": {
    "id": "RHw8ObojH3MW",
    "trusted": true,
    "ExecuteTime": {
     "end_time": "2025-04-23T17:32:26.627492Z",
     "start_time": "2025-04-23T17:32:26.625475Z"
    }
   },
   "outputs": [],
   "execution_count": 6
  },
  {
   "cell_type": "markdown",
   "source": "## Download Dataset",
   "metadata": {
    "id": "s3zHS5Gf8u3Z"
   }
  },
  {
   "cell_type": "code",
   "source": [
    "from dataset.dataset_ESC50 import ESC50\n",
    "import config\n",
    "\n",
    "testset = ESC50(subset=\"test\", root=config.esc50_path, download=True)"
   ],
   "metadata": {
    "colab": {
     "base_uri": "https://localhost:8080/"
    },
    "id": "5wCGFUo-9Zbg",
    "outputId": "d82e4a5b-6761-479e-bff8-985529075557",
    "trusted": true,
    "ExecuteTime": {
     "end_time": "2025-04-23T17:36:16.134633Z",
     "start_time": "2025-04-23T17:34:06.688121Z"
    }
   },
   "outputs": [
    {
     "name": "stderr",
     "output_type": "stream",
     "text": [
      "data/esc50/master.zip: 100%|██████████| 616M/616M [02:06<00:00, 5.09MiB/s] \n"
     ]
    }
   ],
   "execution_count": 10
  },
  {
   "cell_type": "markdown",
   "source": "This dataset contains 2000 audio files and is pre-organized in 5 equal sized folds of 400 files. The predictive performance is measured via average accuracy of 5-fold cross validation.",
   "metadata": {
    "id": "f6H7TJqdJqz_"
   }
  },
  {
   "cell_type": "markdown",
   "source": "What is the expected accuracy for random guessing? Check the number of classes.",
   "metadata": {
    "id": "k-H4QmgwGpNp"
   }
  },
  {
   "cell_type": "code",
   "source": "config.n_classes",
   "metadata": {
    "colab": {
     "base_uri": "https://localhost:8080/"
    },
    "id": "QBdkry58Gepg",
    "outputId": "e800eb97-8756-4979-dbd3-bc1face7c332",
    "trusted": true,
    "ExecuteTime": {
     "end_time": "2025-04-23T17:33:54.690184Z",
     "start_time": "2025-04-23T17:31:42.127189Z"
    }
   },
   "outputs": [
    {
     "data": {
      "text/plain": [
       "50"
      ]
     },
     "execution_count": 19,
     "metadata": {},
     "output_type": "execute_result"
    }
   ],
   "execution_count": 19
  },
  {
   "cell_type": "markdown",
   "source": "Look at the dataset here: https://github.com/karolpiczak/ESC-50",
   "metadata": {}
  },
  {
   "cell_type": "markdown",
   "source": "## Evaluate Cross Validation\nThis will test all 5 cross validation folds with training results of a sample-run - every fold with the respective model. First the sample-run (incl. the models) is downloaded. Then the model is loaded with the sample-run parameters and tested on the fold, for all 5 folds.",
   "metadata": {
    "id": "x3uXrmhw-tIF"
   }
  },
  {
   "cell_type": "code",
   "source": "import pandas as pd\n!mkdir results\n!python test_crossval.py",
   "metadata": {
    "colab": {
     "base_uri": "https://localhost:8080/"
    },
    "id": "E7EoxObA0bui",
    "outputId": "83f2e4dc-ace7-429b-838b-46c083e2a574",
    "trusted": true,
    "ExecuteTime": {
     "end_time": "2025-04-23T17:36:23.114437Z",
     "start_time": "2025-04-23T17:36:21.762933Z"
    }
   },
   "outputs": [
    {
     "name": "stdout",
     "output_type": "stream",
     "text": [
      "Traceback (most recent call last):\r\n",
      "  File \"/Users/hannessteiner/Documents/Projects/DEVPRJ/Challenge2/Challenge2/test_crossval.py\", line 9, in <module>\r\n",
      "    from dataset.dataset_ESC50 import ESC50, download_extract_zip\r\n",
      "ModuleNotFoundError: No module named 'dataset.dataset_ESC50'\r\n"
     ]
    }
   ],
   "execution_count": 11
  },
  {
   "cell_type": "markdown",
   "source": "The mean CV accuracy should be TestAcc=0.361. This is quite good, given a random baseline of 0.02 / 2%.\n\nThe sample-run directory now contains two CSV files, one with test scores and another with predictions.",
   "metadata": {
    "id": "0a1f4lGyBLPe"
   }
  },
  {
   "cell_type": "code",
   "source": "!ls results/sample-run/",
   "metadata": {
    "colab": {
     "base_uri": "https://localhost:8080/"
    },
    "id": "2WvbhpAV8Dgl",
    "outputId": "18b42905-bc12-4c5a-cebe-059a742fac0d",
    "trusted": true,
    "ExecuteTime": {
     "end_time": "2025-04-23T17:33:54.691278Z",
     "start_time": "2025-04-23T17:31:43.492208Z"
    }
   },
   "outputs": [
    {
     "name": "stdout",
     "output_type": "stream",
     "text": [
      "ls: results/sample-run/: No such file or directory\r\n"
     ]
    }
   ],
   "execution_count": 21
  },
  {
   "cell_type": "markdown",
   "source": "Let's check the scores.",
   "metadata": {
    "id": "SH0IMqplEIYm"
   }
  },
  {
   "cell_type": "code",
   "source": "pd.read_csv('results/sample-run/test_scores_terminal.csv', index_col=0)",
   "metadata": {
    "colab": {
     "base_uri": "https://localhost:8080/",
     "height": 269
    },
    "id": "4LioTO4TCkrc",
    "outputId": "1ec6e3dc-7bb6-48d7-c708-a2f2ae0ece13",
    "trusted": true,
    "ExecuteTime": {
     "end_time": "2025-04-23T17:33:54.691642Z",
     "start_time": "2025-04-23T17:31:43.631983Z"
    }
   },
   "outputs": [
    {
     "ename": "FileNotFoundError",
     "evalue": "[Errno 2] No such file or directory: 'Challenge2/results/sample-run/test_scores_terminal.csv'",
     "output_type": "error",
     "traceback": [
      "\u001B[0;31m---------------------------------------------------------------------------\u001B[0m",
      "\u001B[0;31mFileNotFoundError\u001B[0m                         Traceback (most recent call last)",
      "Cell \u001B[0;32mIn[22], line 1\u001B[0m\n\u001B[0;32m----> 1\u001B[0m \u001B[43mpd\u001B[49m\u001B[38;5;241;43m.\u001B[39;49m\u001B[43mread_csv\u001B[49m\u001B[43m(\u001B[49m\u001B[38;5;124;43m'\u001B[39;49m\u001B[38;5;124;43mChallenge2/results/sample-run/test_scores_terminal.csv\u001B[39;49m\u001B[38;5;124;43m'\u001B[39;49m\u001B[43m,\u001B[49m\u001B[43m \u001B[49m\u001B[43mindex_col\u001B[49m\u001B[38;5;241;43m=\u001B[39;49m\u001B[38;5;241;43m0\u001B[39;49m\u001B[43m)\u001B[49m\n",
      "File \u001B[0;32m~/Documents/Projects/DEVPRJ/Challenge2/.venv/lib/python3.9/site-packages/pandas/io/parsers/readers.py:1026\u001B[0m, in \u001B[0;36mread_csv\u001B[0;34m(filepath_or_buffer, sep, delimiter, header, names, index_col, usecols, dtype, engine, converters, true_values, false_values, skipinitialspace, skiprows, skipfooter, nrows, na_values, keep_default_na, na_filter, verbose, skip_blank_lines, parse_dates, infer_datetime_format, keep_date_col, date_parser, date_format, dayfirst, cache_dates, iterator, chunksize, compression, thousands, decimal, lineterminator, quotechar, quoting, doublequote, escapechar, comment, encoding, encoding_errors, dialect, on_bad_lines, delim_whitespace, low_memory, memory_map, float_precision, storage_options, dtype_backend)\u001B[0m\n\u001B[1;32m   1013\u001B[0m kwds_defaults \u001B[38;5;241m=\u001B[39m _refine_defaults_read(\n\u001B[1;32m   1014\u001B[0m     dialect,\n\u001B[1;32m   1015\u001B[0m     delimiter,\n\u001B[0;32m   (...)\u001B[0m\n\u001B[1;32m   1022\u001B[0m     dtype_backend\u001B[38;5;241m=\u001B[39mdtype_backend,\n\u001B[1;32m   1023\u001B[0m )\n\u001B[1;32m   1024\u001B[0m kwds\u001B[38;5;241m.\u001B[39mupdate(kwds_defaults)\n\u001B[0;32m-> 1026\u001B[0m \u001B[38;5;28;01mreturn\u001B[39;00m \u001B[43m_read\u001B[49m\u001B[43m(\u001B[49m\u001B[43mfilepath_or_buffer\u001B[49m\u001B[43m,\u001B[49m\u001B[43m \u001B[49m\u001B[43mkwds\u001B[49m\u001B[43m)\u001B[49m\n",
      "File \u001B[0;32m~/Documents/Projects/DEVPRJ/Challenge2/.venv/lib/python3.9/site-packages/pandas/io/parsers/readers.py:620\u001B[0m, in \u001B[0;36m_read\u001B[0;34m(filepath_or_buffer, kwds)\u001B[0m\n\u001B[1;32m    617\u001B[0m _validate_names(kwds\u001B[38;5;241m.\u001B[39mget(\u001B[38;5;124m\"\u001B[39m\u001B[38;5;124mnames\u001B[39m\u001B[38;5;124m\"\u001B[39m, \u001B[38;5;28;01mNone\u001B[39;00m))\n\u001B[1;32m    619\u001B[0m \u001B[38;5;66;03m# Create the parser.\u001B[39;00m\n\u001B[0;32m--> 620\u001B[0m parser \u001B[38;5;241m=\u001B[39m \u001B[43mTextFileReader\u001B[49m\u001B[43m(\u001B[49m\u001B[43mfilepath_or_buffer\u001B[49m\u001B[43m,\u001B[49m\u001B[43m \u001B[49m\u001B[38;5;241;43m*\u001B[39;49m\u001B[38;5;241;43m*\u001B[39;49m\u001B[43mkwds\u001B[49m\u001B[43m)\u001B[49m\n\u001B[1;32m    622\u001B[0m \u001B[38;5;28;01mif\u001B[39;00m chunksize \u001B[38;5;129;01mor\u001B[39;00m iterator:\n\u001B[1;32m    623\u001B[0m     \u001B[38;5;28;01mreturn\u001B[39;00m parser\n",
      "File \u001B[0;32m~/Documents/Projects/DEVPRJ/Challenge2/.venv/lib/python3.9/site-packages/pandas/io/parsers/readers.py:1620\u001B[0m, in \u001B[0;36mTextFileReader.__init__\u001B[0;34m(self, f, engine, **kwds)\u001B[0m\n\u001B[1;32m   1617\u001B[0m     \u001B[38;5;28mself\u001B[39m\u001B[38;5;241m.\u001B[39moptions[\u001B[38;5;124m\"\u001B[39m\u001B[38;5;124mhas_index_names\u001B[39m\u001B[38;5;124m\"\u001B[39m] \u001B[38;5;241m=\u001B[39m kwds[\u001B[38;5;124m\"\u001B[39m\u001B[38;5;124mhas_index_names\u001B[39m\u001B[38;5;124m\"\u001B[39m]\n\u001B[1;32m   1619\u001B[0m \u001B[38;5;28mself\u001B[39m\u001B[38;5;241m.\u001B[39mhandles: IOHandles \u001B[38;5;241m|\u001B[39m \u001B[38;5;28;01mNone\u001B[39;00m \u001B[38;5;241m=\u001B[39m \u001B[38;5;28;01mNone\u001B[39;00m\n\u001B[0;32m-> 1620\u001B[0m \u001B[38;5;28mself\u001B[39m\u001B[38;5;241m.\u001B[39m_engine \u001B[38;5;241m=\u001B[39m \u001B[38;5;28;43mself\u001B[39;49m\u001B[38;5;241;43m.\u001B[39;49m\u001B[43m_make_engine\u001B[49m\u001B[43m(\u001B[49m\u001B[43mf\u001B[49m\u001B[43m,\u001B[49m\u001B[43m \u001B[49m\u001B[38;5;28;43mself\u001B[39;49m\u001B[38;5;241;43m.\u001B[39;49m\u001B[43mengine\u001B[49m\u001B[43m)\u001B[49m\n",
      "File \u001B[0;32m~/Documents/Projects/DEVPRJ/Challenge2/.venv/lib/python3.9/site-packages/pandas/io/parsers/readers.py:1880\u001B[0m, in \u001B[0;36mTextFileReader._make_engine\u001B[0;34m(self, f, engine)\u001B[0m\n\u001B[1;32m   1878\u001B[0m     \u001B[38;5;28;01mif\u001B[39;00m \u001B[38;5;124m\"\u001B[39m\u001B[38;5;124mb\u001B[39m\u001B[38;5;124m\"\u001B[39m \u001B[38;5;129;01mnot\u001B[39;00m \u001B[38;5;129;01min\u001B[39;00m mode:\n\u001B[1;32m   1879\u001B[0m         mode \u001B[38;5;241m+\u001B[39m\u001B[38;5;241m=\u001B[39m \u001B[38;5;124m\"\u001B[39m\u001B[38;5;124mb\u001B[39m\u001B[38;5;124m\"\u001B[39m\n\u001B[0;32m-> 1880\u001B[0m \u001B[38;5;28mself\u001B[39m\u001B[38;5;241m.\u001B[39mhandles \u001B[38;5;241m=\u001B[39m \u001B[43mget_handle\u001B[49m\u001B[43m(\u001B[49m\n\u001B[1;32m   1881\u001B[0m \u001B[43m    \u001B[49m\u001B[43mf\u001B[49m\u001B[43m,\u001B[49m\n\u001B[1;32m   1882\u001B[0m \u001B[43m    \u001B[49m\u001B[43mmode\u001B[49m\u001B[43m,\u001B[49m\n\u001B[1;32m   1883\u001B[0m \u001B[43m    \u001B[49m\u001B[43mencoding\u001B[49m\u001B[38;5;241;43m=\u001B[39;49m\u001B[38;5;28;43mself\u001B[39;49m\u001B[38;5;241;43m.\u001B[39;49m\u001B[43moptions\u001B[49m\u001B[38;5;241;43m.\u001B[39;49m\u001B[43mget\u001B[49m\u001B[43m(\u001B[49m\u001B[38;5;124;43m\"\u001B[39;49m\u001B[38;5;124;43mencoding\u001B[39;49m\u001B[38;5;124;43m\"\u001B[39;49m\u001B[43m,\u001B[49m\u001B[43m \u001B[49m\u001B[38;5;28;43;01mNone\u001B[39;49;00m\u001B[43m)\u001B[49m\u001B[43m,\u001B[49m\n\u001B[1;32m   1884\u001B[0m \u001B[43m    \u001B[49m\u001B[43mcompression\u001B[49m\u001B[38;5;241;43m=\u001B[39;49m\u001B[38;5;28;43mself\u001B[39;49m\u001B[38;5;241;43m.\u001B[39;49m\u001B[43moptions\u001B[49m\u001B[38;5;241;43m.\u001B[39;49m\u001B[43mget\u001B[49m\u001B[43m(\u001B[49m\u001B[38;5;124;43m\"\u001B[39;49m\u001B[38;5;124;43mcompression\u001B[39;49m\u001B[38;5;124;43m\"\u001B[39;49m\u001B[43m,\u001B[49m\u001B[43m \u001B[49m\u001B[38;5;28;43;01mNone\u001B[39;49;00m\u001B[43m)\u001B[49m\u001B[43m,\u001B[49m\n\u001B[1;32m   1885\u001B[0m \u001B[43m    \u001B[49m\u001B[43mmemory_map\u001B[49m\u001B[38;5;241;43m=\u001B[39;49m\u001B[38;5;28;43mself\u001B[39;49m\u001B[38;5;241;43m.\u001B[39;49m\u001B[43moptions\u001B[49m\u001B[38;5;241;43m.\u001B[39;49m\u001B[43mget\u001B[49m\u001B[43m(\u001B[49m\u001B[38;5;124;43m\"\u001B[39;49m\u001B[38;5;124;43mmemory_map\u001B[39;49m\u001B[38;5;124;43m\"\u001B[39;49m\u001B[43m,\u001B[49m\u001B[43m \u001B[49m\u001B[38;5;28;43;01mFalse\u001B[39;49;00m\u001B[43m)\u001B[49m\u001B[43m,\u001B[49m\n\u001B[1;32m   1886\u001B[0m \u001B[43m    \u001B[49m\u001B[43mis_text\u001B[49m\u001B[38;5;241;43m=\u001B[39;49m\u001B[43mis_text\u001B[49m\u001B[43m,\u001B[49m\n\u001B[1;32m   1887\u001B[0m \u001B[43m    \u001B[49m\u001B[43merrors\u001B[49m\u001B[38;5;241;43m=\u001B[39;49m\u001B[38;5;28;43mself\u001B[39;49m\u001B[38;5;241;43m.\u001B[39;49m\u001B[43moptions\u001B[49m\u001B[38;5;241;43m.\u001B[39;49m\u001B[43mget\u001B[49m\u001B[43m(\u001B[49m\u001B[38;5;124;43m\"\u001B[39;49m\u001B[38;5;124;43mencoding_errors\u001B[39;49m\u001B[38;5;124;43m\"\u001B[39;49m\u001B[43m,\u001B[49m\u001B[43m \u001B[49m\u001B[38;5;124;43m\"\u001B[39;49m\u001B[38;5;124;43mstrict\u001B[39;49m\u001B[38;5;124;43m\"\u001B[39;49m\u001B[43m)\u001B[49m\u001B[43m,\u001B[49m\n\u001B[1;32m   1888\u001B[0m \u001B[43m    \u001B[49m\u001B[43mstorage_options\u001B[49m\u001B[38;5;241;43m=\u001B[39;49m\u001B[38;5;28;43mself\u001B[39;49m\u001B[38;5;241;43m.\u001B[39;49m\u001B[43moptions\u001B[49m\u001B[38;5;241;43m.\u001B[39;49m\u001B[43mget\u001B[49m\u001B[43m(\u001B[49m\u001B[38;5;124;43m\"\u001B[39;49m\u001B[38;5;124;43mstorage_options\u001B[39;49m\u001B[38;5;124;43m\"\u001B[39;49m\u001B[43m,\u001B[49m\u001B[43m \u001B[49m\u001B[38;5;28;43;01mNone\u001B[39;49;00m\u001B[43m)\u001B[49m\u001B[43m,\u001B[49m\n\u001B[1;32m   1889\u001B[0m \u001B[43m\u001B[49m\u001B[43m)\u001B[49m\n\u001B[1;32m   1890\u001B[0m \u001B[38;5;28;01massert\u001B[39;00m \u001B[38;5;28mself\u001B[39m\u001B[38;5;241m.\u001B[39mhandles \u001B[38;5;129;01mis\u001B[39;00m \u001B[38;5;129;01mnot\u001B[39;00m \u001B[38;5;28;01mNone\u001B[39;00m\n\u001B[1;32m   1891\u001B[0m f \u001B[38;5;241m=\u001B[39m \u001B[38;5;28mself\u001B[39m\u001B[38;5;241m.\u001B[39mhandles\u001B[38;5;241m.\u001B[39mhandle\n",
      "File \u001B[0;32m~/Documents/Projects/DEVPRJ/Challenge2/.venv/lib/python3.9/site-packages/pandas/io/common.py:873\u001B[0m, in \u001B[0;36mget_handle\u001B[0;34m(path_or_buf, mode, encoding, compression, memory_map, is_text, errors, storage_options)\u001B[0m\n\u001B[1;32m    868\u001B[0m \u001B[38;5;28;01melif\u001B[39;00m \u001B[38;5;28misinstance\u001B[39m(handle, \u001B[38;5;28mstr\u001B[39m):\n\u001B[1;32m    869\u001B[0m     \u001B[38;5;66;03m# Check whether the filename is to be opened in binary mode.\u001B[39;00m\n\u001B[1;32m    870\u001B[0m     \u001B[38;5;66;03m# Binary mode does not support 'encoding' and 'newline'.\u001B[39;00m\n\u001B[1;32m    871\u001B[0m     \u001B[38;5;28;01mif\u001B[39;00m ioargs\u001B[38;5;241m.\u001B[39mencoding \u001B[38;5;129;01mand\u001B[39;00m \u001B[38;5;124m\"\u001B[39m\u001B[38;5;124mb\u001B[39m\u001B[38;5;124m\"\u001B[39m \u001B[38;5;129;01mnot\u001B[39;00m \u001B[38;5;129;01min\u001B[39;00m ioargs\u001B[38;5;241m.\u001B[39mmode:\n\u001B[1;32m    872\u001B[0m         \u001B[38;5;66;03m# Encoding\u001B[39;00m\n\u001B[0;32m--> 873\u001B[0m         handle \u001B[38;5;241m=\u001B[39m \u001B[38;5;28;43mopen\u001B[39;49m\u001B[43m(\u001B[49m\n\u001B[1;32m    874\u001B[0m \u001B[43m            \u001B[49m\u001B[43mhandle\u001B[49m\u001B[43m,\u001B[49m\n\u001B[1;32m    875\u001B[0m \u001B[43m            \u001B[49m\u001B[43mioargs\u001B[49m\u001B[38;5;241;43m.\u001B[39;49m\u001B[43mmode\u001B[49m\u001B[43m,\u001B[49m\n\u001B[1;32m    876\u001B[0m \u001B[43m            \u001B[49m\u001B[43mencoding\u001B[49m\u001B[38;5;241;43m=\u001B[39;49m\u001B[43mioargs\u001B[49m\u001B[38;5;241;43m.\u001B[39;49m\u001B[43mencoding\u001B[49m\u001B[43m,\u001B[49m\n\u001B[1;32m    877\u001B[0m \u001B[43m            \u001B[49m\u001B[43merrors\u001B[49m\u001B[38;5;241;43m=\u001B[39;49m\u001B[43merrors\u001B[49m\u001B[43m,\u001B[49m\n\u001B[1;32m    878\u001B[0m \u001B[43m            \u001B[49m\u001B[43mnewline\u001B[49m\u001B[38;5;241;43m=\u001B[39;49m\u001B[38;5;124;43m\"\u001B[39;49m\u001B[38;5;124;43m\"\u001B[39;49m\u001B[43m,\u001B[49m\n\u001B[1;32m    879\u001B[0m \u001B[43m        \u001B[49m\u001B[43m)\u001B[49m\n\u001B[1;32m    880\u001B[0m     \u001B[38;5;28;01melse\u001B[39;00m:\n\u001B[1;32m    881\u001B[0m         \u001B[38;5;66;03m# Binary mode\u001B[39;00m\n\u001B[1;32m    882\u001B[0m         handle \u001B[38;5;241m=\u001B[39m \u001B[38;5;28mopen\u001B[39m(handle, ioargs\u001B[38;5;241m.\u001B[39mmode)\n",
      "\u001B[0;31mFileNotFoundError\u001B[0m: [Errno 2] No such file or directory: 'Challenge2/results/sample-run/test_scores_terminal.csv'"
     ]
    }
   ],
   "execution_count": 22
  },
  {
   "cell_type": "markdown",
   "source": "The predictions file is for submission. For every tested WAV file it contains the model predictions for the 50 classes.",
   "metadata": {
    "id": "_NcYG0KWEjEw"
   }
  },
  {
   "cell_type": "code",
   "source": "pd.read_csv('results/sample-run/test_probs_terminal.csv', index_col=0).head()",
   "metadata": {
    "colab": {
     "base_uri": "https://localhost:8080/",
     "height": 516
    },
    "id": "ncbDlAUtEVRg",
    "outputId": "fcdade0d-dc1c-4b20-94a4-1e62d976277f",
    "trusted": true,
    "ExecuteTime": {
     "end_time": "2025-04-23T17:33:54.712078Z",
     "start_time": "2025-04-23T16:18:59.041853Z"
    }
   },
   "outputs": [
    {
     "data": {
      "text/plain": [
       "                          0         1         2         3         4         5  \\\n",
       "1-100032-A-0.wav   4.950583  4.086159  1.574152 -1.253274 -2.158789  5.638130   \n",
       "1-100038-A-14.wav -1.823736 -0.081732  1.714845 -0.510304 -0.559352 -0.462723   \n",
       "1-100210-A-36.wav -6.004370 -4.552930 -0.429047 -1.860066 -2.542747 -2.629528   \n",
       "1-100210-B-36.wav -6.082081 -4.593885 -0.688891 -2.084895 -2.785392 -2.881231   \n",
       "1-101296-A-19.wav -2.992096 -7.215904  1.678492  0.729125 -3.915598 -0.457152   \n",
       "\n",
       "                          6         7         8         9  ...        40  \\\n",
       "1-100032-A-0.wav   1.418870 -0.529921 -3.054562  0.565202  ... -1.460853   \n",
       "1-100038-A-14.wav -1.596907 -3.328725  3.402167  1.168818  ... -2.181345   \n",
       "1-100210-A-36.wav  0.086764  0.783161  0.780405  1.507993  ...  0.416693   \n",
       "1-100210-B-36.wav -0.118920 -0.366830  1.085199  1.281378  ...  0.653679   \n",
       "1-101296-A-19.wav -1.054248  6.329287 -0.666292 -3.946539  ...  4.721740   \n",
       "\n",
       "                         41        42        43        44        45        46  \\\n",
       "1-100032-A-0.wav  -3.771864 -2.689058  1.790379 -4.982672 -6.115509 -3.917395   \n",
       "1-100038-A-14.wav -0.806687  2.740038  0.838288 -4.762276 -2.113644  1.220126   \n",
       "1-100210-A-36.wav  5.807643 -1.925123  2.742119  5.625044  0.582539 -3.300045   \n",
       "1-100210-B-36.wav  5.467762 -2.095331  2.336655  5.946031  0.876772 -3.869634   \n",
       "1-101296-A-19.wav  0.543419 -4.440723  1.899166  0.930293  5.349949 -2.209331   \n",
       "\n",
       "                         47        48        49  \n",
       "1-100032-A-0.wav  -5.277283  2.484046 -0.621556  \n",
       "1-100038-A-14.wav -1.318685  2.975005  3.918015  \n",
       "1-100210-A-36.wav  2.434969  0.405136  3.650156  \n",
       "1-100210-B-36.wav  2.541425  0.367542  3.366386  \n",
       "1-101296-A-19.wav  1.606776  3.384397  1.834558  \n",
       "\n",
       "[5 rows x 50 columns]"
      ],
      "text/html": [
       "<div>\n",
       "<style scoped>\n",
       "    .dataframe tbody tr th:only-of-type {\n",
       "        vertical-align: middle;\n",
       "    }\n",
       "\n",
       "    .dataframe tbody tr th {\n",
       "        vertical-align: top;\n",
       "    }\n",
       "\n",
       "    .dataframe thead th {\n",
       "        text-align: right;\n",
       "    }\n",
       "</style>\n",
       "<table border=\"1\" class=\"dataframe\">\n",
       "  <thead>\n",
       "    <tr style=\"text-align: right;\">\n",
       "      <th></th>\n",
       "      <th>0</th>\n",
       "      <th>1</th>\n",
       "      <th>2</th>\n",
       "      <th>3</th>\n",
       "      <th>4</th>\n",
       "      <th>5</th>\n",
       "      <th>6</th>\n",
       "      <th>7</th>\n",
       "      <th>8</th>\n",
       "      <th>9</th>\n",
       "      <th>...</th>\n",
       "      <th>40</th>\n",
       "      <th>41</th>\n",
       "      <th>42</th>\n",
       "      <th>43</th>\n",
       "      <th>44</th>\n",
       "      <th>45</th>\n",
       "      <th>46</th>\n",
       "      <th>47</th>\n",
       "      <th>48</th>\n",
       "      <th>49</th>\n",
       "    </tr>\n",
       "  </thead>\n",
       "  <tbody>\n",
       "    <tr>\n",
       "      <th>1-100032-A-0.wav</th>\n",
       "      <td>4.950583</td>\n",
       "      <td>4.086159</td>\n",
       "      <td>1.574152</td>\n",
       "      <td>-1.253274</td>\n",
       "      <td>-2.158789</td>\n",
       "      <td>5.638130</td>\n",
       "      <td>1.418870</td>\n",
       "      <td>-0.529921</td>\n",
       "      <td>-3.054562</td>\n",
       "      <td>0.565202</td>\n",
       "      <td>...</td>\n",
       "      <td>-1.460853</td>\n",
       "      <td>-3.771864</td>\n",
       "      <td>-2.689058</td>\n",
       "      <td>1.790379</td>\n",
       "      <td>-4.982672</td>\n",
       "      <td>-6.115509</td>\n",
       "      <td>-3.917395</td>\n",
       "      <td>-5.277283</td>\n",
       "      <td>2.484046</td>\n",
       "      <td>-0.621556</td>\n",
       "    </tr>\n",
       "    <tr>\n",
       "      <th>1-100038-A-14.wav</th>\n",
       "      <td>-1.823736</td>\n",
       "      <td>-0.081732</td>\n",
       "      <td>1.714845</td>\n",
       "      <td>-0.510304</td>\n",
       "      <td>-0.559352</td>\n",
       "      <td>-0.462723</td>\n",
       "      <td>-1.596907</td>\n",
       "      <td>-3.328725</td>\n",
       "      <td>3.402167</td>\n",
       "      <td>1.168818</td>\n",
       "      <td>...</td>\n",
       "      <td>-2.181345</td>\n",
       "      <td>-0.806687</td>\n",
       "      <td>2.740038</td>\n",
       "      <td>0.838288</td>\n",
       "      <td>-4.762276</td>\n",
       "      <td>-2.113644</td>\n",
       "      <td>1.220126</td>\n",
       "      <td>-1.318685</td>\n",
       "      <td>2.975005</td>\n",
       "      <td>3.918015</td>\n",
       "    </tr>\n",
       "    <tr>\n",
       "      <th>1-100210-A-36.wav</th>\n",
       "      <td>-6.004370</td>\n",
       "      <td>-4.552930</td>\n",
       "      <td>-0.429047</td>\n",
       "      <td>-1.860066</td>\n",
       "      <td>-2.542747</td>\n",
       "      <td>-2.629528</td>\n",
       "      <td>0.086764</td>\n",
       "      <td>0.783161</td>\n",
       "      <td>0.780405</td>\n",
       "      <td>1.507993</td>\n",
       "      <td>...</td>\n",
       "      <td>0.416693</td>\n",
       "      <td>5.807643</td>\n",
       "      <td>-1.925123</td>\n",
       "      <td>2.742119</td>\n",
       "      <td>5.625044</td>\n",
       "      <td>0.582539</td>\n",
       "      <td>-3.300045</td>\n",
       "      <td>2.434969</td>\n",
       "      <td>0.405136</td>\n",
       "      <td>3.650156</td>\n",
       "    </tr>\n",
       "    <tr>\n",
       "      <th>1-100210-B-36.wav</th>\n",
       "      <td>-6.082081</td>\n",
       "      <td>-4.593885</td>\n",
       "      <td>-0.688891</td>\n",
       "      <td>-2.084895</td>\n",
       "      <td>-2.785392</td>\n",
       "      <td>-2.881231</td>\n",
       "      <td>-0.118920</td>\n",
       "      <td>-0.366830</td>\n",
       "      <td>1.085199</td>\n",
       "      <td>1.281378</td>\n",
       "      <td>...</td>\n",
       "      <td>0.653679</td>\n",
       "      <td>5.467762</td>\n",
       "      <td>-2.095331</td>\n",
       "      <td>2.336655</td>\n",
       "      <td>5.946031</td>\n",
       "      <td>0.876772</td>\n",
       "      <td>-3.869634</td>\n",
       "      <td>2.541425</td>\n",
       "      <td>0.367542</td>\n",
       "      <td>3.366386</td>\n",
       "    </tr>\n",
       "    <tr>\n",
       "      <th>1-101296-A-19.wav</th>\n",
       "      <td>-2.992096</td>\n",
       "      <td>-7.215904</td>\n",
       "      <td>1.678492</td>\n",
       "      <td>0.729125</td>\n",
       "      <td>-3.915598</td>\n",
       "      <td>-0.457152</td>\n",
       "      <td>-1.054248</td>\n",
       "      <td>6.329287</td>\n",
       "      <td>-0.666292</td>\n",
       "      <td>-3.946539</td>\n",
       "      <td>...</td>\n",
       "      <td>4.721740</td>\n",
       "      <td>0.543419</td>\n",
       "      <td>-4.440723</td>\n",
       "      <td>1.899166</td>\n",
       "      <td>0.930293</td>\n",
       "      <td>5.349949</td>\n",
       "      <td>-2.209331</td>\n",
       "      <td>1.606776</td>\n",
       "      <td>3.384397</td>\n",
       "      <td>1.834558</td>\n",
       "    </tr>\n",
       "  </tbody>\n",
       "</table>\n",
       "<p>5 rows × 50 columns</p>\n",
       "</div>"
      ]
     },
     "execution_count": 12,
     "metadata": {},
     "output_type": "execute_result"
    }
   ],
   "execution_count": 12
  },
  {
   "cell_type": "markdown",
   "source": "Let's download the predictions file and submit it to the Challenge in Moodle.",
   "metadata": {
    "id": "35GjYEpJHZt5"
   }
  },
  {
   "cell_type": "markdown",
   "source": "## Train Cross Validation",
   "metadata": {
    "id": "0DWlu6PoH98D"
   }
  },
  {
   "metadata": {
    "ExecuteTime": {
     "end_time": "2025-04-23T17:33:54.716207Z",
     "start_time": "2025-04-23T17:32:06.567702Z"
    }
   },
   "cell_type": "code",
   "source": "%load config.py",
   "outputs": [],
   "execution_count": null
  },
  {
   "metadata": {
    "ExecuteTime": {
     "end_time": "2025-04-23T17:36:39.959203Z",
     "start_time": "2025-04-23T17:36:39.941955Z"
    }
   },
   "cell_type": "code",
   "source": [
    "import importlib\n",
    "\n",
    "importlib.reload(config)\n",
    "\n",
    "model = eval(config.model_constructor)\n",
    "num_parms = sum(p.numel() for p in model.parameters())\n",
    "print(f\"Total numbers of parameters {num_parms}\")"
   ],
   "outputs": [
    {
     "ename": "NameError",
     "evalue": "name 'AudioMLP' is not defined",
     "output_type": "error",
     "traceback": [
      "\u001B[0;31m---------------------------------------------------------------------------\u001B[0m",
      "\u001B[0;31mNameError\u001B[0m                                 Traceback (most recent call last)",
      "Cell \u001B[0;32mIn[14], line 5\u001B[0m\n\u001B[1;32m      1\u001B[0m \u001B[38;5;28;01mimport\u001B[39;00m\u001B[38;5;250m \u001B[39m\u001B[38;5;21;01mimportlib\u001B[39;00m\n\u001B[1;32m      3\u001B[0m importlib\u001B[38;5;241m.\u001B[39mreload(config)\n\u001B[0;32m----> 5\u001B[0m model \u001B[38;5;241m=\u001B[39m \u001B[38;5;28;43meval\u001B[39;49m\u001B[43m(\u001B[49m\u001B[43mconfig\u001B[49m\u001B[38;5;241;43m.\u001B[39;49m\u001B[43mmodel_constructor\u001B[49m\u001B[43m)\u001B[49m\n\u001B[1;32m      6\u001B[0m num_parms \u001B[38;5;241m=\u001B[39m \u001B[38;5;28msum\u001B[39m(p\u001B[38;5;241m.\u001B[39mnumel() \u001B[38;5;28;01mfor\u001B[39;00m p \u001B[38;5;129;01min\u001B[39;00m model\u001B[38;5;241m.\u001B[39mparameters())\n\u001B[1;32m      7\u001B[0m \u001B[38;5;28mprint\u001B[39m(\u001B[38;5;124mf\u001B[39m\u001B[38;5;124m\"\u001B[39m\u001B[38;5;124mTotal numbers of parameters \u001B[39m\u001B[38;5;132;01m{\u001B[39;00mnum_parms\u001B[38;5;132;01m}\u001B[39;00m\u001B[38;5;124m\"\u001B[39m)\n",
      "File \u001B[0;32m<string>:1\u001B[0m\n",
      "\u001B[0;31mNameError\u001B[0m: name 'AudioMLP' is not defined"
     ]
    }
   ],
   "execution_count": 14
  },
  {
   "metadata": {},
   "cell_type": "code",
   "outputs": [
    {
     "name": "stdout",
     "output_type": "stream",
     "text": [
      "/Users/hannessteiner/Documents/Projects/DEVPRJ/Challenge2/.venv/lib/python3.9/site-packages/urllib3/__init__.py:35: NotOpenSSLWarning: urllib3 v2 only supports OpenSSL 1.1.1+, currently the 'ssl' module is compiled with 'LibreSSL 2.8.3'. See: https://github.com/urllib3/urllib3/issues/3020\r\n",
      "  warnings.warn(\r\n",
      "WARNING: Using hardcoded global mean and std. Depends on feature settings!\r\n",
      "*****\r\n",
      "train folds are {2, 3, 4, 5} and test fold is {1}\r\n",
      "random wave cropping\r\n",
      "\r\n",
      "AudioMLP(n_steps=431,n_mels=config.n_mels,hidden1_size=512,hidden2_size=128,output_size=config.n_classes,time_reduce=1)\r\n",
      "*****\r\n",
      "\r\n",
      "100%|██████████████████████████████████████████| 40/40 [00:09<00:00,  4.37bat/s]\r\n",
      "100%|██████████████████████████████████████████| 10/10 [00:02<00:00,  5.00bat/s]\r\n",
      "  0%|             | 1/200 [00:11<37:00, 11.16s/ep] TrnAcc=0.057 ValAcc=0.087 TrnLoss=3.729 ValLoss=3.517 < inf --> checkpoint\r\n",
      "100%|██████████████████████████████████████████| 40/40 [00:08<00:00,  4.48bat/s]\r\n",
      "100%|██████████████████████████████████████████| 10/10 [00:02<00:00,  4.84bat/s]\r\n",
      "  1%|1            | 2/200 [00:22<36:47, 11.15s/ep] TrnAcc=0.100 ValAcc=0.147 TrnLoss=3.392 ValLoss=3.263 < 3.517 --> checkpoint\r\n",
      "100%|██████████████████████████████████████████| 40/40 [00:09<00:00,  4.41bat/s]\r\n",
      "100%|██████████████████████████████████████████| 10/10 [00:02<00:00,  4.74bat/s]\r\n",
      "  2%|1            | 3/200 [00:33<36:45, 11.20s/ep] TrnAcc=0.155 ValAcc=0.106 TrnLoss=3.177 ValLoss=3.258 < 3.263 --> checkpoint\r\n",
      "100%|██████████████████████████████████████████| 40/40 [00:09<00:00,  4.32bat/s]\r\n",
      "100%|██████████████████████████████████████████| 10/10 [00:02<00:00,  4.63bat/s]\r\n",
      "  2%|2            | 4/200 [00:45<36:59, 11.32s/ep] TrnAcc=0.181 ValAcc=0.169 TrnLoss=2.967 ValLoss=3.024 < 3.258 --> checkpoint\r\n",
      "100%|██████████████████████████████████████████| 40/40 [00:09<00:00,  4.22bat/s]\r\n",
      "100%|██████████████████████████████████████████| 10/10 [00:02<00:00,  4.48bat/s]\r\n",
      "  2%|3            | 5/200 [00:56<37:21, 11.50s/ep] TrnAcc=0.255 ValAcc=0.216 TrnLoss=2.765 ValLoss=2.924 < 3.024 --> checkpoint\r\n",
      "100%|██████████████████████████████████████████| 40/40 [00:09<00:00,  4.24bat/s]\r\n",
      "100%|██████████████████████████████████████████| 10/10 [00:02<00:00,  4.53bat/s]\r\n",
      "  3%|3            | 6/200 [01:08<37:26, 11.58s/ep] TrnAcc=0.287 ValAcc=0.225 TrnLoss=2.610 ValLoss=2.871 < 2.924 --> checkpoint\r\n",
      "100%|██████████████████████████████████████████| 40/40 [00:09<00:00,  4.21bat/s]\r\n",
      "100%|██████████████████████████████████████████| 10/10 [00:02<00:00,  4.51bat/s]\r\n",
      "  4%|4            | 7/200 [01:20<37:29, 11.66s/ep] TrnAcc=0.315 ValAcc=0.241 TrnLoss=2.463 ValLoss=2.830 < 2.871 --> checkpoint\r\n",
      "100%|██████████████████████████████████████████| 40/40 [00:09<00:00,  4.24bat/s]\r\n",
      "100%|██████████████████████████████████████████| 10/10 [00:02<00:00,  4.63bat/s]\r\n",
      "  4%|5            | 8/200 [01:32<37:20, 11.67s/ep] TrnAcc=0.348 ValAcc=0.237 TrnLoss=2.381 ValLoss=2.791 < 2.830 --> checkpoint\r\n",
      "100%|██████████████████████████████████████████| 40/40 [00:09<00:00,  4.25bat/s]\r\n",
      "100%|██████████████████████████████████████████| 10/10 [00:02<00:00,  4.69bat/s]\r\n",
      "  4%|5            | 9/200 [01:43<37:06, 11.66s/ep] TrnAcc=0.372 ValAcc=0.300 TrnLoss=2.296 ValLoss=2.689 < 2.791 --> checkpoint\r\n",
      "100%|██████████████████████████████████████████| 40/40 [00:09<00:00,  4.24bat/s]\r\n",
      "100%|██████████████████████████████████████████| 10/10 [00:02<00:00,  4.47bat/s]\r\n",
      "  5%|6           | 10/200 [01:55<37:01, 11.69s/ep] TrnAcc=0.417 ValAcc=0.275 TrnLoss=2.135 ValLoss=2.663 < 2.689 --> checkpoint\r\n",
      "100%|██████████████████████████████████████████| 40/40 [00:09<00:00,  4.15bat/s]\r\n",
      "100%|██████████████████████████████████████████| 10/10 [00:02<00:00,  4.45bat/s]\r\n",
      "  6%|6           | 11/200 [02:07<37:05, 11.78s/ep] TrnAcc=0.418 ValAcc=0.287 TrnLoss=2.049 ValLoss=2.659 < 2.663 --> checkpoint\r\n",
      "100%|██████████████████████████████████████████| 40/40 [00:09<00:00,  4.19bat/s]\r\n",
      "100%|██████████████████████████████████████████| 10/10 [00:02<00:00,  4.48bat/s]\r\n",
      "  6%|7           | 12/200 [02:19<36:59, 11.80s/ep] TrnAcc=0.437 ValAcc=0.278 TrnLoss=1.989 ValLoss=2.644 < 2.659 --> checkpoint\r\n",
      "100%|██████████████████████████████████████████| 40/40 [00:09<00:00,  4.23bat/s]\r\n",
      "100%|██████████████████████████████████████████| 10/10 [00:02<00:00,  4.54bat/s]\r\n",
      "  6%|7           | 13/200 [02:31<36:44, 11.79s/ep] TrnAcc=0.469 ValAcc=0.275 TrnLoss=1.888 ValLoss=2.641 < 2.644 --> checkpoint\r\n",
      "100%|██████████████████████████████████████████| 40/40 [00:09<00:00,  4.26bat/s]\r\n",
      "100%|██████████████████████████████████████████| 10/10 [00:02<00:00,  4.57bat/s]\r\n",
      "  7%|8           | 14/200 [02:42<36:25, 11.75s/ep] TrnAcc=0.486 ValAcc=0.303 TrnLoss=1.826 ValLoss=2.610 < 2.641 --> checkpoint\r\n",
      "100%|██████████████████████████████████████████| 40/40 [00:09<00:00,  4.26bat/s]\r\n",
      "100%|██████████████████████████████████████████| 10/10 [00:02<00:00,  4.50bat/s]\r\n",
      "  8%|9           | 15/200 [02:54<36:11, 11.74s/ep] TrnAcc=0.512 ValAcc=0.325 TrnLoss=1.790 ValLoss=2.587 < 2.610 --> checkpoint\r\n",
      "100%|██████████████████████████████████████████| 40/40 [00:09<00:00,  4.24bat/s]\r\n",
      "100%|██████████████████████████████████████████| 10/10 [00:02<00:00,  4.57bat/s]\r\n",
      "  8%|9           | 16/200 [03:06<35:58, 11.73s/ep] TrnAcc=0.546 ValAcc=0.322 TrnLoss=1.668 ValLoss=2.479 < 2.587 --> checkpoint\r\n",
      "100%|██████████████████████████████████████████| 40/40 [00:09<00:00,  4.22bat/s]\r\n",
      "100%|██████████████████████████████████████████| 10/10 [00:02<00:00,  4.56bat/s]\r\n",
      "  8%|#           | 17/200 [03:17<35:48, 11.74s/ep] TrnAcc=0.555 ValAcc=0.309 TrnLoss=1.649 ValLoss=2.543 \r\n",
      "100%|██████████████████████████████████████████| 40/40 [00:09<00:00,  4.13bat/s]\r\n",
      "100%|██████████████████████████████████████████| 10/10 [00:02<00:00,  4.47bat/s]\r\n",
      "  9%|#           | 18/200 [03:29<35:46, 11.80s/ep] TrnAcc=0.552 ValAcc=0.328 TrnLoss=1.590 ValLoss=2.512 \r\n",
      "100%|██████████████████████████████████████████| 40/40 [00:09<00:00,  4.17bat/s]\r\n",
      "100%|██████████████████████████████████████████| 10/10 [00:02<00:00,  4.49bat/s]\r\n",
      " 10%|#1          | 19/200 [03:41<35:36, 11.80s/ep] TrnAcc=0.575 ValAcc=0.344 TrnLoss=1.537 ValLoss=2.515 \r\n",
      "100%|██████████████████████████████████████████| 40/40 [00:09<00:00,  4.19bat/s]\r\n",
      "100%|██████████████████████████████████████████| 10/10 [00:02<00:00,  4.57bat/s]\r\n",
      " 10%|#2          | 20/200 [03:53<35:20, 11.78s/ep] TrnAcc=0.605 ValAcc=0.312 TrnLoss=1.476 ValLoss=2.514 \r\n",
      "100%|██████████████████████████████████████████| 40/40 [00:09<00:00,  4.18bat/s]\r\n",
      "100%|██████████████████████████████████████████| 10/10 [00:02<00:00,  4.51bat/s]\r\n",
      " 10%|#2          | 21/200 [04:05<35:08, 11.78s/ep] TrnAcc=0.643 ValAcc=0.347 TrnLoss=1.384 ValLoss=2.485 \r\n",
      "100%|██████████████████████████████████████████| 40/40 [00:09<00:00,  4.21bat/s]\r\n",
      "100%|██████████████████████████████████████████| 10/10 [00:02<00:00,  4.56bat/s]\r\n",
      " 11%|#3          | 22/200 [04:16<34:52, 11.76s/ep] TrnAcc=0.634 ValAcc=0.338 TrnLoss=1.371 ValLoss=2.498 \r\n",
      "100%|██████████████████████████████████████████| 40/40 [00:09<00:00,  4.21bat/s]\r\n",
      "100%|██████████████████████████████████████████| 10/10 [00:02<00:00,  4.53bat/s]\r\n",
      " 12%|#3          | 23/200 [04:28<34:39, 11.75s/ep] TrnAcc=0.655 ValAcc=0.341 TrnLoss=1.321 ValLoss=2.440 < 2.479 --> checkpoint\r\n",
      "100%|██████████████████████████████████████████| 40/40 [00:09<00:00,  4.19bat/s]\r\n",
      "100%|██████████████████████████████████████████| 10/10 [00:02<00:00,  4.43bat/s]\r\n",
      " 12%|#4          | 24/200 [04:40<34:35, 11.79s/ep] TrnAcc=0.672 ValAcc=0.362 TrnLoss=1.313 ValLoss=2.433 < 2.440 --> checkpoint\r\n",
      "100%|██████████████████████████████████████████| 40/40 [00:09<00:00,  4.18bat/s]\r\n",
      "100%|██████████████████████████████████████████| 10/10 [00:02<00:00,  4.47bat/s]\r\n",
      " 12%|#5          | 25/200 [04:52<34:29, 11.83s/ep] TrnAcc=0.681 ValAcc=0.356 TrnLoss=1.243 ValLoss=2.455 \r\n",
      "100%|██████████████████████████████████████████| 40/40 [00:09<00:00,  4.15bat/s]\r\n",
      "100%|██████████████████████████████████████████| 10/10 [00:02<00:00,  4.43bat/s]\r\n",
      " 13%|#5          | 26/200 [05:04<34:21, 11.85s/ep] TrnAcc=0.670 ValAcc=0.362 TrnLoss=1.208 ValLoss=2.396 < 2.433 --> checkpoint\r\n",
      "100%|██████████████████████████████████████████| 40/40 [00:09<00:00,  4.10bat/s]\r\n",
      "100%|██████████████████████████████████████████| 10/10 [00:02<00:00,  4.48bat/s]\r\n",
      " 14%|#6          | 27/200 [05:16<34:20, 11.91s/ep] TrnAcc=0.693 ValAcc=0.372 TrnLoss=1.196 ValLoss=2.431 \r\n",
      "100%|██████████████████████████████████████████| 40/40 [00:09<00:00,  4.12bat/s]\r\n",
      "100%|██████████████████████████████████████████| 10/10 [00:02<00:00,  4.44bat/s]\r\n",
      " 14%|#6          | 28/200 [05:28<34:11, 11.93s/ep] TrnAcc=0.695 ValAcc=0.359 TrnLoss=1.153 ValLoss=2.405 \r\n",
      "100%|██████████████████████████████████████████| 40/40 [00:09<00:00,  4.11bat/s]\r\n",
      "100%|██████████████████████████████████████████| 10/10 [00:02<00:00,  4.41bat/s]\r\n",
      " 14%|#7          | 29/200 [05:40<34:03, 11.95s/ep] TrnAcc=0.714 ValAcc=0.369 TrnLoss=1.133 ValLoss=2.438 \r\n",
      "100%|██████████████████████████████████████████| 40/40 [00:09<00:00,  4.15bat/s]\r\n",
      "100%|██████████████████████████████████████████| 10/10 [00:02<00:00,  4.46bat/s]\r\n",
      " 15%|#8          | 30/200 [05:52<33:48, 11.93s/ep] TrnAcc=0.713 ValAcc=0.369 TrnLoss=1.099 ValLoss=2.415 \r\n",
      "100%|██████████████████████████████████████████| 40/40 [00:09<00:00,  4.11bat/s]\r\n",
      "100%|██████████████████████████████████████████| 10/10 [00:02<00:00,  4.49bat/s]\r\n",
      " 16%|#8          | 31/200 [06:04<33:38, 11.94s/ep] TrnAcc=0.728 ValAcc=0.388 TrnLoss=1.077 ValLoss=2.375 < 2.396 --> checkpoint\r\n",
      "100%|██████████████████████████████████████████| 40/40 [00:09<00:00,  4.15bat/s]\r\n",
      "100%|██████████████████████████████████████████| 10/10 [00:02<00:00,  4.56bat/s]\r\n",
      " 16%|#9          | 32/200 [06:16<33:25, 11.94s/ep] TrnAcc=0.727 ValAcc=0.369 TrnLoss=1.091 ValLoss=2.423 \r\n",
      "100%|██████████████████████████████████████████| 40/40 [00:09<00:00,  4.17bat/s]\r\n",
      "100%|██████████████████████████████████████████| 10/10 [00:02<00:00,  4.52bat/s]\r\n",
      " 16%|#9          | 33/200 [06:27<33:06, 11.90s/ep] TrnAcc=0.735 ValAcc=0.369 TrnLoss=1.053 ValLoss=2.409 \r\n",
      "100%|██████████████████████████████████████████| 40/40 [00:09<00:00,  4.17bat/s]\r\n",
      "100%|██████████████████████████████████████████| 10/10 [00:02<00:00,  4.33bat/s]\r\n",
      " 17%|##          | 34/200 [06:39<32:55, 11.90s/ep] TrnAcc=0.745 ValAcc=0.362 TrnLoss=1.010 ValLoss=2.457 \r\n",
      "100%|██████████████████████████████████████████| 40/40 [00:09<00:00,  4.14bat/s]\r\n",
      "100%|██████████████████████████████████████████| 10/10 [00:02<00:00,  4.50bat/s]\r\n",
      " 18%|##          | 35/200 [06:51<32:42, 11.89s/ep] TrnAcc=0.732 ValAcc=0.372 TrnLoss=1.015 ValLoss=2.388 \r\n",
      "100%|██████████████████████████████████████████| 40/40 [00:09<00:00,  4.13bat/s]\r\n",
      "100%|██████████████████████████████████████████| 10/10 [00:02<00:00,  4.46bat/s]\r\n",
      " 18%|##1         | 36/200 [07:03<32:32, 11.91s/ep] TrnAcc=0.744 ValAcc=0.388 TrnLoss=1.008 ValLoss=2.392 \r\n",
      "100%|██████████████████████████████████████████| 40/40 [00:09<00:00,  4.18bat/s]\r\n",
      "100%|██████████████████████████████████████████| 10/10 [00:02<00:00,  4.59bat/s]\r\n",
      " 18%|##2         | 37/200 [07:15<32:12, 11.86s/ep] TrnAcc=0.751 ValAcc=0.388 TrnLoss=0.967 ValLoss=2.364 < 2.375 --> checkpoint\r\n",
      "100%|██████████████████████████████████████████| 40/40 [00:09<00:00,  4.17bat/s]\r\n",
      "100%|██████████████████████████████████████████| 10/10 [00:02<00:00,  4.52bat/s]\r\n",
      " 19%|##2         | 38/200 [07:27<32:02, 11.87s/ep] TrnAcc=0.761 ValAcc=0.381 TrnLoss=0.985 ValLoss=2.395 \r\n",
      "100%|██████████████████████████████████████████| 40/40 [00:09<00:00,  4.14bat/s]\r\n",
      "100%|██████████████████████████████████████████| 10/10 [00:02<00:00,  4.50bat/s]\r\n",
      " 20%|##3         | 39/200 [07:39<31:51, 11.87s/ep] TrnAcc=0.766 ValAcc=0.378 TrnLoss=0.933 ValLoss=2.406 \r\n",
      "100%|██████████████████████████████████████████| 40/40 [00:09<00:00,  4.17bat/s]\r\n",
      "100%|██████████████████████████████████████████| 10/10 [00:02<00:00,  4.47bat/s]\r\n",
      " 20%|##4         | 40/200 [07:51<31:37, 11.86s/ep] TrnAcc=0.760 ValAcc=0.391 TrnLoss=0.933 ValLoss=2.428 \r\n",
      "100%|██████████████████████████████████████████| 40/40 [00:09<00:00,  4.12bat/s]\r\n",
      "100%|██████████████████████████████████████████| 10/10 [00:02<00:00,  4.36bat/s]\r\n",
      " 20%|##4         | 41/200 [08:03<31:32, 11.90s/ep] TrnAcc=0.783 ValAcc=0.384 TrnLoss=0.905 ValLoss=2.391 \r\n",
      "100%|██████████████████████████████████████████| 40/40 [00:09<00:00,  4.10bat/s]\r\n",
      "100%|██████████████████████████████████████████| 10/10 [00:02<00:00,  4.32bat/s]\r\n",
      " 21%|##5         | 42/200 [08:15<31:28, 11.95s/ep] TrnAcc=0.769 ValAcc=0.381 TrnLoss=0.905 ValLoss=2.366 \r\n",
      "100%|██████████████████████████████████████████| 40/40 [00:09<00:00,  4.17bat/s]\r\n",
      "100%|██████████████████████████████████████████| 10/10 [00:02<00:00,  4.48bat/s]\r\n",
      " 22%|##5         | 43/200 [08:26<31:10, 11.92s/ep] TrnAcc=0.785 ValAcc=0.381 TrnLoss=0.883 ValLoss=2.408 \r\n",
      "100%|██████████████████████████████████████████| 40/40 [00:09<00:00,  4.18bat/s]\r\n",
      "100%|██████████████████████████████████████████| 10/10 [00:02<00:00,  4.45bat/s]\r\n",
      " 22%|##6         | 44/200 [08:38<30:54, 11.89s/ep] TrnAcc=0.787 ValAcc=0.375 TrnLoss=0.888 ValLoss=2.381 \r\n",
      "100%|██████████████████████████████████████████| 40/40 [00:09<00:00,  4.13bat/s]\r\n",
      "100%|██████████████████████████████████████████| 10/10 [00:02<00:00,  4.41bat/s]\r\n",
      " 22%|##7         | 45/200 [08:50<30:45, 11.91s/ep] TrnAcc=0.790 ValAcc=0.384 TrnLoss=0.850 ValLoss=2.372 \r\n",
      "100%|██████████████████████████████████████████| 40/40 [00:09<00:00,  4.14bat/s]\r\n",
      "100%|██████████████████████████████████████████| 10/10 [00:02<00:00,  4.49bat/s]\r\n",
      " 23%|##7         | 46/200 [09:02<30:32, 11.90s/ep] TrnAcc=0.795 ValAcc=0.378 TrnLoss=0.852 ValLoss=2.374 \r\n",
      "100%|██████████████████████████████████████████| 40/40 [00:09<00:00,  4.16bat/s]\r\n",
      "100%|██████████████████████████████████████████| 10/10 [00:02<00:00,  4.50bat/s]\r\n",
      " 24%|##8         | 47/200 [09:14<30:17, 11.88s/ep] TrnAcc=0.794 ValAcc=0.381 TrnLoss=0.863 ValLoss=2.359 < 2.364 --> checkpoint\r\n",
      "100%|██████████████████████████████████████████| 40/40 [00:09<00:00,  4.11bat/s]\r\n",
      "100%|██████████████████████████████████████████| 10/10 [00:02<00:00,  4.44bat/s]\r\n",
      " 24%|##8         | 48/200 [09:26<30:14, 11.94s/ep] TrnAcc=0.776 ValAcc=0.388 TrnLoss=0.866 ValLoss=2.365 \r\n",
      "100%|██████████████████████████████████████████| 40/40 [00:09<00:00,  4.01bat/s]\r\n",
      "100%|██████████████████████████████████████████| 10/10 [00:02<00:00,  4.37bat/s]\r\n",
      " 24%|##9         | 49/200 [09:38<30:17, 12.04s/ep] TrnAcc=0.793 ValAcc=0.397 TrnLoss=0.842 ValLoss=2.365 \r\n",
      "100%|██████████████████████████████████████████| 40/40 [00:09<00:00,  4.05bat/s]\r\n",
      "100%|██████████████████████████████████████████| 10/10 [00:02<00:00,  4.48bat/s]\r\n",
      " 25%|###         | 50/200 [09:50<30:08, 12.06s/ep] TrnAcc=0.793 ValAcc=0.391 TrnLoss=0.833 ValLoss=2.374 \r\n",
      "100%|██████████████████████████████████████████| 40/40 [00:10<00:00,  3.96bat/s]\r\n",
      "100%|██████████████████████████████████████████| 10/10 [00:02<00:00,  4.03bat/s]\r\n",
      " 26%|###         | 51/200 [10:03<30:19, 12.21s/ep] TrnAcc=0.795 ValAcc=0.391 TrnLoss=0.840 ValLoss=2.366 \r\n",
      "100%|██████████████████████████████████████████| 40/40 [00:10<00:00,  3.92bat/s]\r\n",
      "100%|██████████████████████████████████████████| 10/10 [00:02<00:00,  4.01bat/s]\r\n",
      " 26%|###1        | 52/200 [10:16<30:28, 12.36s/ep] TrnAcc=0.801 ValAcc=0.391 TrnLoss=0.817 ValLoss=2.363 \r\n",
      "100%|██████████████████████████████████████████| 40/40 [00:10<00:00,  3.87bat/s]\r\n",
      "100%|██████████████████████████████████████████| 10/10 [00:02<00:00,  3.88bat/s]\r\n",
      " 26%|###1        | 53/200 [10:29<30:41, 12.52s/ep] TrnAcc=0.801 ValAcc=0.391 TrnLoss=0.805 ValLoss=2.382 \r\n",
      "100%|██████████████████████████████████████████| 40/40 [00:10<00:00,  3.68bat/s]\r\n",
      "100%|██████████████████████████████████████████| 10/10 [00:02<00:00,  3.92bat/s]\r\n",
      " 27%|###2        | 54/200 [10:42<31:08, 12.80s/ep] TrnAcc=0.798 ValAcc=0.388 TrnLoss=0.806 ValLoss=2.374 \r\n",
      "100%|██████████████████████████████████████████| 40/40 [00:10<00:00,  3.73bat/s]\r\n",
      "100%|██████████████████████████████████████████| 10/10 [00:02<00:00,  4.13bat/s]\r\n",
      " 28%|###3        | 55/200 [10:55<31:10, 12.90s/ep] TrnAcc=0.798 ValAcc=0.384 TrnLoss=0.803 ValLoss=2.366 \r\n",
      "100%|██████████████████████████████████████████| 40/40 [00:10<00:00,  3.84bat/s]\r\n",
      "100%|██████████████████████████████████████████| 10/10 [00:02<00:00,  3.65bat/s]\r\n",
      " 28%|###3        | 56/200 [11:08<31:09, 12.98s/ep] TrnAcc=0.810 ValAcc=0.397 TrnLoss=0.778 ValLoss=2.368 \r\n",
      "100%|██████████████████████████████████████████| 40/40 [00:10<00:00,  3.85bat/s]\r\n",
      "100%|██████████████████████████████████████████| 10/10 [00:02<00:00,  3.97bat/s]\r\n",
      " 28%|###4        | 57/200 [11:21<30:53, 12.96s/ep] TrnAcc=0.797 ValAcc=0.397 TrnLoss=0.788 ValLoss=2.367 \r\n",
      "100%|██████████████████████████████████████████| 40/40 [00:10<00:00,  3.81bat/s]\r\n",
      "100%|██████████████████████████████████████████| 10/10 [00:02<00:00,  3.87bat/s]\r\n",
      " 29%|###4        | 58/200 [11:34<30:45, 13.00s/ep] TrnAcc=0.809 ValAcc=0.394 TrnLoss=0.786 ValLoss=2.369 \r\n",
      "100%|██████████████████████████████████████████| 40/40 [00:10<00:00,  3.85bat/s]\r\n",
      "100%|██████████████████████████████████████████| 10/10 [00:02<00:00,  3.98bat/s]\r\n",
      " 30%|###5        | 59/200 [11:47<30:28, 12.97s/ep] TrnAcc=0.816 ValAcc=0.384 TrnLoss=0.771 ValLoss=2.372 \r\n",
      "100%|██████████████████████████████████████████| 40/40 [00:10<00:00,  3.92bat/s]\r\n",
      "100%|██████████████████████████████████████████| 10/10 [00:02<00:00,  4.26bat/s]\r\n",
      " 30%|###6        | 60/200 [12:00<29:58, 12.85s/ep] TrnAcc=0.805 ValAcc=0.391 TrnLoss=0.775 ValLoss=2.362 \r\n",
      "100%|██████████████████████████████████████████| 40/40 [00:10<00:00,  4.00bat/s]\r\n",
      "100%|██████████████████████████████████████████| 10/10 [00:02<00:00,  4.07bat/s]\r\n",
      " 30%|###6        | 61/200 [12:12<29:29, 12.73s/ep] TrnAcc=0.820 ValAcc=0.384 TrnLoss=0.771 ValLoss=2.357 < 2.359 --> checkpoint\r\n",
      "100%|██████████████████████████████████████████| 40/40 [00:10<00:00,  3.89bat/s]\r\n",
      "100%|██████████████████████████████████████████| 10/10 [00:02<00:00,  3.98bat/s]\r\n",
      " 31%|###7        | 62/200 [12:25<29:23, 12.78s/ep] TrnAcc=0.818 ValAcc=0.400 TrnLoss=0.759 ValLoss=2.342 < 2.357 --> checkpoint\r\n",
      "100%|██████████████████████████████████████████| 40/40 [00:10<00:00,  3.86bat/s]\r\n",
      "100%|██████████████████████████████████████████| 10/10 [00:02<00:00,  4.17bat/s]\r\n",
      " 32%|###7        | 63/200 [12:38<29:13, 12.80s/ep] TrnAcc=0.823 ValAcc=0.397 TrnLoss=0.761 ValLoss=2.357 \r\n",
      "100%|██████████████████████████████████████████| 40/40 [00:10<00:00,  3.96bat/s]\r\n",
      "100%|██████████████████████████████████████████| 10/10 [00:02<00:00,  4.20bat/s]\r\n",
      " 32%|###8        | 64/200 [12:50<28:48, 12.71s/ep] TrnAcc=0.809 ValAcc=0.400 TrnLoss=0.775 ValLoss=2.361 \r\n",
      "100%|██████████████████████████████████████████| 40/40 [00:09<00:00,  4.01bat/s]\r\n",
      "100%|██████████████████████████████████████████| 10/10 [00:02<00:00,  4.21bat/s]\r\n",
      " 32%|###9        | 65/200 [13:03<28:21, 12.60s/ep] TrnAcc=0.816 ValAcc=0.394 TrnLoss=0.748 ValLoss=2.369 \r\n",
      "100%|██████████████████████████████████████████| 40/40 [00:09<00:00,  4.08bat/s]\r\n",
      "100%|██████████████████████████████████████████| 10/10 [00:02<00:00,  4.38bat/s]\r\n",
      " 33%|###9        | 66/200 [13:15<27:48, 12.45s/ep] TrnAcc=0.823 ValAcc=0.394 TrnLoss=0.757 ValLoss=2.359 \r\n",
      "100%|██████████████████████████████████████████| 40/40 [00:09<00:00,  4.03bat/s]\r\n",
      "100%|██████████████████████████████████████████| 10/10 [00:02<00:00,  4.16bat/s]\r\n",
      " 34%|####        | 67/200 [13:27<27:30, 12.41s/ep] TrnAcc=0.820 ValAcc=0.394 TrnLoss=0.751 ValLoss=2.363 \r\n",
      "100%|██████████████████████████████████████████| 40/40 [00:09<00:00,  4.03bat/s]\r\n",
      "100%|██████████████████████████████████████████| 10/10 [00:02<00:00,  4.42bat/s]\r\n",
      " 34%|####        | 68/200 [13:39<27:09, 12.34s/ep] TrnAcc=0.825 ValAcc=0.397 TrnLoss=0.729 ValLoss=2.368 \r\n",
      "100%|██████████████████████████████████████████| 40/40 [00:09<00:00,  4.09bat/s]\r\n",
      "100%|██████████████████████████████████████████| 10/10 [00:02<00:00,  4.52bat/s]\r\n",
      " 34%|####1       | 69/200 [13:51<26:43, 12.24s/ep] TrnAcc=0.822 ValAcc=0.397 TrnLoss=0.763 ValLoss=2.361 \r\n",
      "100%|██████████████████████████████████████████| 40/40 [00:09<00:00,  4.01bat/s]\r\n",
      "100%|██████████████████████████████████████████| 10/10 [00:02<00:00,  4.46bat/s]\r\n",
      " 35%|####1       | 70/200 [14:04<26:29, 12.23s/ep] TrnAcc=0.830 ValAcc=0.397 TrnLoss=0.755 ValLoss=2.358 \r\n",
      "100%|██████████████████████████████████████████| 40/40 [00:09<00:00,  4.10bat/s]\r\n",
      "100%|██████████████████████████████████████████| 10/10 [00:02<00:00,  4.52bat/s]\r\n",
      " 36%|####2       | 71/200 [14:16<26:07, 12.15s/ep] TrnAcc=0.819 ValAcc=0.403 TrnLoss=0.728 ValLoss=2.366 \r\n",
      "100%|██████████████████████████████████████████| 40/40 [00:09<00:00,  4.12bat/s]\r\n",
      "100%|██████████████████████████████████████████| 10/10 [00:02<00:00,  4.33bat/s]\r\n",
      " 36%|####3       | 72/200 [14:28<25:50, 12.11s/ep] TrnAcc=0.825 ValAcc=0.397 TrnLoss=0.713 ValLoss=2.369 \r\n",
      "100%|██████████████████████████████████████████| 40/40 [00:09<00:00,  4.02bat/s]\r\n",
      "100%|██████████████████████████████████████████| 10/10 [00:02<00:00,  4.45bat/s]\r\n",
      " 36%|####3       | 73/200 [14:40<25:41, 12.14s/ep] TrnAcc=0.823 ValAcc=0.406 TrnLoss=0.727 ValLoss=2.371 \r\n",
      "100%|██████████████████████████████████████████| 40/40 [00:09<00:00,  4.06bat/s]\r\n",
      "100%|██████████████████████████████████████████| 10/10 [00:02<00:00,  4.46bat/s]\r\n",
      " 37%|####4       | 74/200 [14:52<25:27, 12.13s/ep] TrnAcc=0.827 ValAcc=0.394 TrnLoss=0.735 ValLoss=2.369 \r\n",
      "100%|██████████████████████████████████████████| 40/40 [00:09<00:00,  4.06bat/s]\r\n",
      "100%|██████████████████████████████████████████| 10/10 [00:02<00:00,  4.47bat/s]\r\n",
      " 38%|####5       | 75/200 [15:04<25:14, 12.11s/ep] TrnAcc=0.826 ValAcc=0.400 TrnLoss=0.719 ValLoss=2.371 \r\n",
      "100%|██████████████████████████████████████████| 40/40 [00:09<00:00,  4.14bat/s]\r\n",
      "100%|██████████████████████████████████████████| 10/10 [00:02<00:00,  4.52bat/s]\r\n",
      " 38%|####5       | 76/200 [15:16<24:53, 12.05s/ep] TrnAcc=0.843 ValAcc=0.397 TrnLoss=0.716 ValLoss=2.362 \r\n",
      "100%|██████████████████████████████████████████| 40/40 [00:09<00:00,  4.03bat/s]\r\n",
      "100%|██████████████████████████████████████████| 10/10 [00:02<00:00,  4.49bat/s]\r\n",
      " 38%|####6       | 77/200 [15:28<24:45, 12.08s/ep] TrnAcc=0.837 ValAcc=0.397 TrnLoss=0.700 ValLoss=2.361 \r\n",
      "100%|██████████████████████████████████████████| 40/40 [00:10<00:00,  3.95bat/s]\r\n",
      "100%|██████████████████████████████████████████| 10/10 [00:02<00:00,  4.50bat/s]\r\n",
      " 39%|####6       | 78/200 [15:40<24:43, 12.16s/ep] TrnAcc=0.830 ValAcc=0.397 TrnLoss=0.731 ValLoss=2.357 \r\n",
      "100%|██████████████████████████████████████████| 40/40 [00:09<00:00,  4.11bat/s]\r\n",
      "100%|██████████████████████████████████████████| 10/10 [00:02<00:00,  3.99bat/s]\r\n",
      " 40%|####7       | 79/200 [15:53<24:33, 12.18s/ep] TrnAcc=0.845 ValAcc=0.400 TrnLoss=0.711 ValLoss=2.352 \r\n",
      "100%|██████████████████████████████████████████| 40/40 [00:10<00:00,  3.87bat/s]\r\n",
      "100%|██████████████████████████████████████████| 10/10 [00:02<00:00,  4.05bat/s]\r\n",
      " 40%|####8       | 80/200 [16:05<24:44, 12.37s/ep] TrnAcc=0.839 ValAcc=0.391 TrnLoss=0.703 ValLoss=2.362 \r\n",
      "100%|██████████████████████████████████████████| 40/40 [00:10<00:00,  3.93bat/s]\r\n",
      "100%|██████████████████████████████████████████| 10/10 [00:02<00:00,  4.01bat/s]\r\n",
      " 40%|####8       | 81/200 [16:18<24:43, 12.46s/ep] TrnAcc=0.829 ValAcc=0.397 TrnLoss=0.713 ValLoss=2.361 \r\n",
      "100%|██████████████████████████████████████████| 40/40 [00:10<00:00,  3.88bat/s]\r\n",
      "100%|██████████████████████████████████████████| 10/10 [00:02<00:00,  4.12bat/s]\r\n",
      " 41%|####9       | 82/200 [16:31<24:40, 12.55s/ep] TrnAcc=0.830 ValAcc=0.394 TrnLoss=0.737 ValLoss=2.361 \r\n",
      "Early stopping\r\n",
      " 41%|####9       | 82/200 [16:31<23:46, 12.09s/ep]\r\n",
      "\r\n",
      "test results/2025-04-23-18-19/1\r\n",
      "100%|██████████████████████████████████████████| 13/13 [00:03<00:00,  4.17bat/s]\r\n",
      "TestAcc    0.350\r\n",
      "TestLoss   2.568\r\n",
      "dtype: float64\r\n",
      "\r\n",
      "*****\r\n",
      "train folds are {1, 3, 4, 5} and test fold is {2}\r\n",
      "random wave cropping\r\n",
      "\r\n",
      "AudioMLP(n_steps=431,n_mels=config.n_mels,hidden1_size=512,hidden2_size=128,output_size=config.n_classes,time_reduce=1)\r\n",
      "*****\r\n",
      "\r\n",
      "100%|██████████████████████████████████████████| 40/40 [00:10<00:00,  3.81bat/s]\r\n",
      "100%|██████████████████████████████████████████| 10/10 [00:02<00:00,  4.09bat/s]\r\n",
      "  0%|             | 1/200 [00:12<42:53, 12.93s/ep] TrnAcc=0.034 ValAcc=0.056 TrnLoss=3.766 ValLoss=3.524 < inf --> checkpoint\r\n",
      "100%|██████████████████████████████████████████| 40/40 [00:10<00:00,  3.85bat/s]\r\n",
      "100%|██████████████████████████████████████████| 10/10 [00:02<00:00,  4.18bat/s]\r\n",
      "  1%|1            | 2/200 [00:25<42:40, 12.93s/ep] TrnAcc=0.092 ValAcc=0.138 TrnLoss=3.412 ValLoss=3.262 < 3.524 --> checkpoint\r\n",
      "100%|██████████████████████████████████████████| 40/40 [00:10<00:00,  3.86bat/s]\r\n",
      "100%|██████████████████████████████████████████| 10/10 [00:02<00:00,  4.02bat/s]\r\n",
      "  2%|1            | 3/200 [00:38<42:28, 12.94s/ep] TrnAcc=0.161 ValAcc=0.163 TrnLoss=3.132 ValLoss=3.030 < 3.262 --> checkpoint\r\n",
      "100%|██████████████████████████████████████████| 40/40 [00:10<00:00,  3.86bat/s]\r\n",
      "100%|██████████████████████████████████████████| 10/10 [00:02<00:00,  4.11bat/s]\r\n",
      "  2%|2            | 4/200 [00:51<42:11, 12.92s/ep] TrnAcc=0.188 ValAcc=0.200 TrnLoss=2.975 ValLoss=2.981 < 3.030 --> checkpoint\r\n",
      "100%|██████████████████████████████████████████| 40/40 [00:10<00:00,  3.84bat/s]\r\n",
      "100%|██████████████████████████████████████████| 10/10 [00:02<00:00,  4.04bat/s]\r\n",
      "  2%|3            | 5/200 [01:04<42:03, 12.94s/ep] TrnAcc=0.235 ValAcc=0.178 TrnLoss=2.798 ValLoss=2.908 < 2.981 --> checkpoint\r\n",
      "100%|██████████████████████████████████████████| 40/40 [00:10<00:00,  3.86bat/s]\r\n",
      "100%|██████████████████████████████████████████| 10/10 [00:02<00:00,  3.95bat/s]\r\n",
      "  3%|3            | 6/200 [01:17<41:53, 12.96s/ep] TrnAcc=0.280 ValAcc=0.250 TrnLoss=2.607 ValLoss=2.803 < 2.908 --> checkpoint\r\n",
      "100%|██████████████████████████████████████████| 40/40 [00:10<00:00,  3.85bat/s]\r\n",
      "100%|██████████████████████████████████████████| 10/10 [00:02<00:00,  3.93bat/s]\r\n",
      "  4%|4            | 7/200 [01:30<41:45, 12.98s/ep] TrnAcc=0.314 ValAcc=0.256 TrnLoss=2.483 ValLoss=2.721 < 2.803 --> checkpoint\r\n",
      "100%|██████████████████████████████████████████| 40/40 [00:10<00:00,  3.77bat/s]\r\n",
      "100%|██████████████████████████████████████████| 10/10 [00:02<00:00,  4.21bat/s]\r\n",
      "  4%|5            | 8/200 [01:43<41:38, 13.01s/ep] TrnAcc=0.351 ValAcc=0.253 TrnLoss=2.361 ValLoss=2.635 < 2.721 --> checkpoint\r\n",
      "100%|██████████████████████████████████████████| 40/40 [00:10<00:00,  3.87bat/s]\r\n",
      "100%|██████████████████████████████████████████| 10/10 [00:02<00:00,  4.30bat/s]\r\n",
      "  4%|5            | 9/200 [01:56<41:10, 12.93s/ep] TrnAcc=0.354 ValAcc=0.269 TrnLoss=2.302 ValLoss=2.696 \r\n",
      "100%|██████████████████████████████████████████| 40/40 [00:10<00:00,  3.76bat/s]\r\n",
      "100%|██████████████████████████████████████████| 10/10 [00:02<00:00,  3.91bat/s]\r\n",
      "  5%|6           | 10/200 [02:09<41:12, 13.01s/ep] TrnAcc=0.364 ValAcc=0.284 TrnLoss=2.210 ValLoss=2.600 < 2.635 --> checkpoint\r\n",
      "100%|██████████████████████████████████████████| 40/40 [00:10<00:00,  3.80bat/s]\r\n",
      "100%|██████████████████████████████████████████| 10/10 [00:02<00:00,  4.19bat/s]\r\n",
      "  6%|6           | 11/200 [02:22<40:58, 13.01s/ep] TrnAcc=0.428 ValAcc=0.284 TrnLoss=2.081 ValLoss=2.638 \r\n",
      "100%|██████████████████████████████████████████| 40/40 [00:09<00:00,  4.03bat/s]\r\n",
      "100%|██████████████████████████████████████████| 10/10 [00:02<00:00,  4.42bat/s]\r\n",
      "  6%|7           | 12/200 [02:34<39:58, 12.76s/ep] TrnAcc=0.455 ValAcc=0.284 TrnLoss=1.995 ValLoss=2.593 < 2.600 --> checkpoint\r\n",
      "100%|██████████████████████████████████████████| 40/40 [00:10<00:00,  4.00bat/s]\r\n",
      "100%|██████████████████████████████████████████| 10/10 [00:02<00:00,  4.46bat/s]\r\n",
      "  6%|7           | 13/200 [02:47<39:22, 12.63s/ep] TrnAcc=0.473 ValAcc=0.328 TrnLoss=1.941 ValLoss=2.537 < 2.593 --> checkpoint\r\n",
      "100%|██████████████████████████████████████████| 40/40 [00:09<00:00,  4.03bat/s]\r\n",
      "100%|██████████████████████████████████████████| 10/10 [00:02<00:00,  4.50bat/s]\r\n",
      "  7%|8           | 14/200 [02:59<38:48, 12.52s/ep] TrnAcc=0.496 ValAcc=0.316 TrnLoss=1.866 ValLoss=2.515 < 2.537 --> checkpoint\r\n",
      "100%|██████████████████████████████████████████| 40/40 [00:09<00:00,  4.02bat/s]\r\n",
      "100%|██████████████████████████████████████████| 10/10 [00:02<00:00,  4.44bat/s]\r\n",
      "  8%|9           | 15/200 [03:11<38:22, 12.45s/ep] TrnAcc=0.506 ValAcc=0.319 TrnLoss=1.815 ValLoss=2.487 < 2.515 --> checkpoint\r\n",
      "100%|██████████████████████████████████████████| 40/40 [00:09<00:00,  4.02bat/s]\r\n",
      "100%|██████████████████████████████████████████| 10/10 [00:02<00:00,  4.38bat/s]\r\n",
      "  8%|9           | 16/200 [03:24<38:03, 12.41s/ep] TrnAcc=0.534 ValAcc=0.328 TrnLoss=1.726 ValLoss=2.585 \r\n",
      "100%|██████████████████████████████████████████| 40/40 [00:09<00:00,  4.05bat/s]\r\n",
      "100%|██████████████████████████████████████████| 10/10 [00:02<00:00,  4.15bat/s]\r\n",
      "  8%|#           | 17/200 [03:36<37:43, 12.37s/ep] TrnAcc=0.535 ValAcc=0.359 TrnLoss=1.678 ValLoss=2.480 < 2.487 --> checkpoint\r\n",
      " 32%|█████████████▋                            | 13/40 [00:03<00:07,  3.85bat/s]^C\r\n",
      " 35%|██████████████▋                           | 14/40 [00:03<00:06,  3.76bat/s]\r\n",
      "Traceback (most recent call last):\r\n",
      "  File \"/Users/hannessteiner/Documents/Projects/DEVPRJ/Challenge2/Challenge2/train_crossval.py\", line 210, in <module>\r\n",
      "    weight_decay=config.weight_decay)\r\n",
      "  File \"/Users/hannessteiner/Documents/Projects/DEVPRJ/Challenge2/Challenge2/train_crossval.py\", line 97, in fit_classifier\r\n",
      "    train_acc, train_loss = train_epoch()\r\n",
      "  File \"/Users/hannessteiner/Documents/Projects/DEVPRJ/Challenge2/Challenge2/train_crossval.py\", line 63, in train_epoch\r\n",
      "    for _, x, label in tqdm(train_loader, unit='bat', disable=config.disable_bat_pbar, position=0):\r\n",
      "  File \"/Users/hannessteiner/Documents/Projects/DEVPRJ/Challenge2/.venv/lib/python3.9/site-packages/tqdm/std.py\", line 1181, in __iter__\r\n",
      "    for obj in iterable:\r\n",
      "  File \"/Users/hannessteiner/Documents/Projects/DEVPRJ/Challenge2/.venv/lib/python3.9/site-packages/torch/utils/data/dataloader.py\", line 708, in __next__\r\n",
      "    data = self._next_data()\r\n",
      "  File \"/Users/hannessteiner/Documents/Projects/DEVPRJ/Challenge2/.venv/lib/python3.9/site-packages/torch/utils/data/dataloader.py\", line 764, in _next_data\r\n",
      "    data = self._dataset_fetcher.fetch(index)  # may raise StopIteration\r\n",
      "  File \"/Users/hannessteiner/Documents/Projects/DEVPRJ/Challenge2/.venv/lib/python3.9/site-packages/torch/utils/data/_utils/fetch.py\", line 52, in fetch\r\n",
      "    data = [self.dataset[idx] for idx in possibly_batched_index]\r\n",
      "  File \"/Users/hannessteiner/Documents/Projects/DEVPRJ/Challenge2/.venv/lib/python3.9/site-packages/torch/utils/data/_utils/fetch.py\", line 52, in <listcomp>\r\n",
      "    data = [self.dataset[idx] for idx in possibly_batched_index]\r\n",
      "  File \"/Users/hannessteiner/Documents/Projects/DEVPRJ/Challenge2/Challenge2/dataset/dataset_ESC50.py\", line 166, in __getitem__\r\n",
      "    hop_length=config.hop_length,\r\n",
      "  File \"/Users/hannessteiner/Documents/Projects/DEVPRJ/Challenge2/.venv/lib/python3.9/site-packages/librosa/feature/spectral.py\", line 2135, in melspectrogram\r\n",
      "    S, n_fft = _spectrogram(\r\n",
      "  File \"/Users/hannessteiner/Documents/Projects/DEVPRJ/Challenge2/.venv/lib/python3.9/site-packages/librosa/core/spectrum.py\", line 2945, in _spectrogram\r\n",
      "    stft(\r\n",
      "  File \"/Users/hannessteiner/Documents/Projects/DEVPRJ/Challenge2/.venv/lib/python3.9/site-packages/librosa/core/spectrum.py\", line 387, in stft\r\n",
      "    stft_matrix[..., bl_s + off_start : bl_t + off_start] = fft.rfft(\r\n",
      "  File \"/Users/hannessteiner/Documents/Projects/DEVPRJ/Challenge2/.venv/lib/python3.9/site-packages/scipy/fft/_backend.py\", line 28, in __ua_function__\r\n",
      "    return fn(*args, **kwargs)\r\n",
      "  File \"/Users/hannessteiner/Documents/Projects/DEVPRJ/Challenge2/.venv/lib/python3.9/site-packages/scipy/fft/_basic_backend.py\", line 72, in rfft\r\n",
      "    return _execute_1D('rfft', _pocketfft.rfft, x, n=n, axis=axis, norm=norm,\r\n",
      "  File \"/Users/hannessteiner/Documents/Projects/DEVPRJ/Challenge2/.venv/lib/python3.9/site-packages/scipy/fft/_basic_backend.py\", line 28, in _execute_1D\r\n",
      "    return pocketfft_func(x, n=n, axis=axis, norm=norm,\r\n",
      "  File \"/Users/hannessteiner/Documents/Projects/DEVPRJ/Challenge2/.venv/lib/python3.9/site-packages/scipy/fft/_pocketfft/basic.py\", line 61, in r2c\r\n",
      "    return pfft.r2c(tmp, (axis,), forward, norm, None, workers)\r\n",
      "KeyboardInterrupt\r\n",
      "  8%|#           | 17/200 [03:40<39:31, 12.96s/ep]\r\n"
     ]
    }
   ],
   "execution_count": 13,
   "source": "!python train_crossval.py"
  },
  {
   "metadata": {
    "ExecuteTime": {
     "end_time": "2025-04-23T17:33:54.724371Z",
     "start_time": "2025-04-23T16:39:16.792006Z"
    }
   },
   "cell_type": "code",
   "source": "",
   "outputs": [],
   "execution_count": null
  }
 ]
}
